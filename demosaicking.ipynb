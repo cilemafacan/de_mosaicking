{
 "cells": [
  {
   "cell_type": "code",
   "execution_count": 1,
   "metadata": {},
   "outputs": [],
   "source": [
    "import numpy as np\n",
    "from PIL import Image"
   ]
  },
  {
   "cell_type": "code",
   "execution_count": 2,
   "metadata": {},
   "outputs": [
    {
     "name": "stdout",
     "output_type": "stream",
     "text": [
      "Input image shape:  (2048, 2048, 3) Input image dtype:  float32\n"
     ]
    }
   ],
   "source": [
    "input_image = Image.open(\"fruit_crop.png\")\n",
    "np_input_image = np.array(input_image, dtype=np.float32)\n",
    "print(\"Input image shape: \", np_input_image.shape, \"Input image dtype: \", np_input_image.dtype)"
   ]
  },
  {
   "cell_type": "code",
   "execution_count": 3,
   "metadata": {},
   "outputs": [
    {
     "name": "stdout",
     "output_type": "stream",
     "text": [
      "Bayer Pattern Shape: (2, 2, 3) Bayer Pattern Dtype: float32\n"
     ]
    }
   ],
   "source": [
    "bayer_pattern = np.array([[[0.,1.], [0.,0.]], \n",
    "                          [[1.,0.], [0.,1.]], \n",
    "                          [[0.,0.], [1.,0.]]]).transpose(1, 2, 0).astype(np.float32)\n",
    "pil_bayer_pattern = Image.fromarray((bayer_pattern * 255).astype(np.uint8))\n",
    "pil_bayer_pattern.save(\"bayer_pattern.jpg\")\n",
    "print(\"Bayer Pattern Shape:\", bayer_pattern.shape, \"Bayer Pattern Dtype:\",bayer_pattern.dtype)"
   ]
  },
  {
   "cell_type": "code",
   "execution_count": 4,
   "metadata": {},
   "outputs": [],
   "source": [
    "def mosaicking(input_image, bayer):\n",
    "    output_image = np.zeros_like(input_image)\n",
    "    for i in range(0, input_image.shape[0], 2):\n",
    "        for j in range(0, input_image.shape[1], 2):\n",
    "            output_image[i:i+2, j:j+2] = input_image[i:i+2, j:j+2] * bayer\n",
    "    return output_image"
   ]
  },
  {
   "cell_type": "code",
   "execution_count": 5,
   "metadata": {},
   "outputs": [],
   "source": [
    "def padding(mosaic_image):\n",
    "    padded_image = np.zeros((mosaic_image.shape[0] + 2, mosaic_image.shape[1] + 2, mosaic_image.shape[2]), dtype=mosaic_image.dtype)\n",
    "    padded_image[1:-1, 1:-1, :] = mosaic_image\n",
    "    padded_image[0, 1:-1] = mosaic_image[1, :]\n",
    "    padded_image[-1, 1:-1] = mosaic_image[-2, :]\n",
    "    padded_image[1:-1, 0] = mosaic_image[:, 1]\n",
    "    padded_image[1:-1, -1] = mosaic_image[:, -2]\n",
    "    padded_image[0, 0] = mosaic_image[1, 1]\n",
    "    padded_image[0, -1] = mosaic_image[1, -2]\n",
    "    padded_image[-1, 0] = mosaic_image[-2, 1]\n",
    "    padded_image[-1, -1] = mosaic_image[-2, -2]\n",
    "\n",
    "    return padded_image"
   ]
  },
  {
   "cell_type": "code",
   "execution_count": 6,
   "metadata": {},
   "outputs": [
    {
     "name": "stdout",
     "output_type": "stream",
     "text": [
      "Mosaic Image Shape: (2048, 2048, 3) Mosaic Image Dtype: float32\n",
      "Input: [252. 255. 226.] Output: [  0.   0. 226.]\n"
     ]
    }
   ],
   "source": [
    "np_mosaic_image = mosaicking(np_input_image, bayer_pattern)\n",
    "print(\"Mosaic Image Shape:\", np_mosaic_image.shape, \"Mosaic Image Dtype:\",np_mosaic_image.dtype)\n",
    "print(\"Input:\", np_input_image[1][0], \"Output:\", np_mosaic_image[1][0])\n",
    "\n",
    "pil_mosaic_image = Image.fromarray(np_mosaic_image.astype(np.uint8))\n",
    "pil_mosaic_image.save(\"mosaic_image.png\")\n",
    "\n",
    "np_padded_image = padding(np_mosaic_image)\n",
    "pil_padded_image = Image.fromarray(np_padded_image.astype(np.uint8))\n",
    "pil_padded_image.save(\"padded_image.png\")"
   ]
  },
  {
   "cell_type": "code",
   "execution_count": 9,
   "metadata": {},
   "outputs": [
    {
     "name": "stdout",
     "output_type": "stream",
     "text": [
      "Kırmızı Kanal\n",
      "Mavi Kanal\n",
      "np_padded_image: [  0. 255.   0.]\n",
      "output_image: [252. 255. 226.]\n"
     ]
    }
   ],
   "source": [
    "output_image = np_padded_image.copy()\n",
    "\n",
    "for i in range(0, 3):\n",
    "    for j in range(0, 3):\n",
    "        if np_padded_image[i, j, 0] == 0:\n",
    "            print(\"Kırmızı Kanal\")\n",
    "            red_channel = np_padded_image[i:i+3, j:j+3,0]\n",
    "            red_channel_avg = np.sum(red_channel) / np.count_nonzero(red_channel)\n",
    "            output_image[i+1, j+1, 0] = red_channel_avg\n",
    "        \n",
    "        if np_padded_image[i, j, 1] == 0:\n",
    "            print(\"Yeşil Kanal\")\n",
    "            green_channel = np_padded_image[i:i+3, j:j+3,1]\n",
    "            green_channel_avg = np.sum(green_channel) / np.count_nonzero(green_channel)\n",
    "            output_image[i+1, j+1, 1] = green_channel_avg\n",
    "\n",
    "        if np_padded_image[i, j, 2] == 0:\n",
    "            print(\"Mavi Kanal\")\n",
    "            blue_channel = np_padded_image[i:i+3, j:j+3,2]\n",
    "            blue_channel_avg = np.sum(blue_channel) / np.count_nonzero(blue_channel)\n",
    "            output_image[i+1, j+1, 2] = blue_channel_avg\n",
    "\n",
    "        print(\"np_padded_image:\", np_padded_image[i,j])\n",
    "        print(\"output_image:\", output_image[i+1, j+1])\n",
    "\n",
    "        \n",
    "        break\n",
    "    break"
   ]
  },
  {
   "cell_type": "code",
   "execution_count": 7,
   "metadata": {},
   "outputs": [],
   "source": []
  },
  {
   "cell_type": "code",
   "execution_count": null,
   "metadata": {},
   "outputs": [],
   "source": []
  }
 ],
 "metadata": {
  "kernelspec": {
   "display_name": "Python 3",
   "language": "python",
   "name": "python3"
  },
  "language_info": {
   "codemirror_mode": {
    "name": "ipython",
    "version": 3
   },
   "file_extension": ".py",
   "mimetype": "text/x-python",
   "name": "python",
   "nbconvert_exporter": "python",
   "pygments_lexer": "ipython3",
   "version": "3.12.7"
  }
 },
 "nbformat": 4,
 "nbformat_minor": 2
}
