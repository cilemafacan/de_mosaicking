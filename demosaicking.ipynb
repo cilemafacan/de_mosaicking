{
 "cells": [
  {
   "cell_type": "code",
   "execution_count": 1,
   "metadata": {},
   "outputs": [],
   "source": [
    "import numpy as np\n",
    "from PIL import Image"
   ]
  },
  {
   "cell_type": "code",
   "execution_count": 2,
   "metadata": {},
   "outputs": [],
   "source": [
    "def padding(image: np.ndarray) -> np.ndarray:\n",
    "    padded_image = np.zeros((image.shape[0] + 2, image.shape[1] + 2, image.shape[2]), dtype=image.dtype)\n",
    "    padded_image[1:-1, 1:-1, :] = image\n",
    "    padded_image[0, 1:-1] = image[1, :]\n",
    "    padded_image[-1, 1:-1] = image[-2, :]\n",
    "    padded_image[1:-1, 0] = image[:, 1]\n",
    "    padded_image[1:-1, -1] = image[:, -2]\n",
    "    padded_image[0, 0] = image[1, 1]\n",
    "    padded_image[0, -1] = image[1, -2]\n",
    "    padded_image[-1, 0] = image[-2, 1]\n",
    "    padded_image[-1, -1] = image[-2, -2]\n",
    "\n",
    "    return padded_image"
   ]
  },
  {
   "cell_type": "code",
   "execution_count": 3,
   "metadata": {},
   "outputs": [],
   "source": [
    "def check_input(image: Image):\n",
    "    if image.mode != 'RGB':\n",
    "        raise ValueError('Input image must be RGB')"
   ]
  },
  {
   "cell_type": "code",
   "execution_count": 4,
   "metadata": {},
   "outputs": [
    {
     "name": "stdout",
     "output_type": "stream",
     "text": [
      "Input image shape:  (502, 502, 3) Input image dtype:  float32\n"
     ]
    }
   ],
   "source": [
    "input_image = Image.open(\"images/medium.png\")\n",
    "check_input(input_image)\n",
    "np_input_image = np.array(input_image, dtype=np.float32)\n",
    "np_input_image = padding(np_input_image)\n",
    "\n",
    "print(\"Input image shape: \", np_input_image.shape, \"Input image dtype: \", np_input_image.dtype)"
   ]
  },
  {
   "cell_type": "code",
   "execution_count": 5,
   "metadata": {},
   "outputs": [
    {
     "name": "stdout",
     "output_type": "stream",
     "text": [
      "Bayer Pattern Shape: (2, 2, 3) Bayer Pattern Dtype: float32\n"
     ]
    }
   ],
   "source": [
    "bayer_pattern = np.array([[[0.,1.], [0.,0.]], \n",
    "                          [[1.,0.], [0.,1.]], \n",
    "                          [[0.,0.], [1.,0.]]]).transpose(1, 2, 0).astype(np.float32)\n",
    "\n",
    "pil_bayer_pattern = Image.fromarray((bayer_pattern * 255).astype(np.uint8))\n",
    "pil_bayer_pattern.save(\"bayer_pattern.png\")\n",
    "print(\"Bayer Pattern Shape:\", bayer_pattern.shape, \"Bayer Pattern Dtype:\",bayer_pattern.dtype)"
   ]
  },
  {
   "cell_type": "code",
   "execution_count": 6,
   "metadata": {},
   "outputs": [],
   "source": [
    "def mosaicking(input_image, bayer):\n",
    "    output_image = np.zeros_like(input_image)\n",
    "    for i in range(1, input_image.shape[0] - 1, 2):\n",
    "        for j in range(1, input_image.shape[1] - 1, 2):\n",
    "            output_image[i:i+2, j:j+2] = input_image[i:i+2, j:j+2] * bayer\n",
    "    return output_image"
   ]
  },
  {
   "cell_type": "code",
   "execution_count": 7,
   "metadata": {},
   "outputs": [],
   "source": [
    "def de_mosaicking(input_image):\n",
    "    output_image = input_image.copy()\n",
    "\n",
    "    for i in range(0, input_image.shape[0]-2):\n",
    "        for j in range(0, input_image.shape[1]-2):\n",
    "            if input_image[i+1, j+1, 0] == 0:\n",
    "                red_channel = input_image[i:i+3, j:j+3,0]\n",
    "                if np.count_nonzero(red_channel) == 0:\n",
    "                    red_channel_avg = 0\n",
    "                else:\n",
    "                    red_channel_avg = np.sum(red_channel) / np.count_nonzero(red_channel)\n",
    "                output_image[i+1, j+1, 0] = red_channel_avg\n",
    "            \n",
    "            if input_image[i+1, j+1, 1] == 0:\n",
    "                green_channel = input_image[i:i+3, j:j+3,1]\n",
    "                if np.count_nonzero(green_channel) == 0:\n",
    "                    green_channel_avg = 0\n",
    "                else:\n",
    "                    green_channel_avg = np.sum(green_channel) / np.count_nonzero(green_channel)\n",
    "                output_image[i+1, j+1, 1] = green_channel_avg\n",
    "\n",
    "            if input_image[i+1, j+1, 2] == 0:\n",
    "                blue_channel = input_image[i:i+3, j:j+3,2]\n",
    "                if np.count_nonzero(blue_channel) == 0:\n",
    "                    blue_channel_avg = 0\n",
    "                else:\n",
    "                    blue_channel_avg = np.sum(blue_channel) / np.count_nonzero(blue_channel)\n",
    "                output_image[i+1, j+1, 2] = blue_channel_avg\n",
    "\n",
    "    output_image = output_image[1:-1, 1:-1]\n",
    "\n",
    "    return output_image"
   ]
  },
  {
   "cell_type": "code",
   "execution_count": 8,
   "metadata": {},
   "outputs": [
    {
     "name": "stdout",
     "output_type": "stream",
     "text": [
      "Mosaic Image Shape: (502, 502, 3) Mosaic Image Dtype: float32\n",
      "Input: [125. 162. 154.] Output: [  0.   0. 154.]\n"
     ]
    }
   ],
   "source": [
    "np_mosaic_image = mosaicking(np_input_image, bayer_pattern)\n",
    "print(\"Mosaic Image Shape:\", np_mosaic_image.shape, \"Mosaic Image Dtype:\",np_mosaic_image.dtype)\n",
    "print(\"Input:\", np_input_image[10][1], \"Output:\", np_mosaic_image[10][1])\n",
    "\n",
    "pil_mosaic_image = Image.fromarray(np_mosaic_image.astype(np.uint8))\n",
    "pil_mosaic_image.save(\"mosaic_image.png\")"
   ]
  },
  {
   "cell_type": "code",
   "execution_count": 9,
   "metadata": {},
   "outputs": [],
   "source": [
    "np_output_image = de_mosaicking(np_mosaic_image)\n",
    "pil_output_image = Image.fromarray(np_output_image.astype(np.uint8))\n",
    "pil_output_image.save(\"output_image.png\")"
   ]
  },
  {
   "cell_type": "code",
   "execution_count": 10,
   "metadata": {},
   "outputs": [
    {
     "name": "stdout",
     "output_type": "stream",
     "text": [
      "MSE: 0.0\n",
      "PSNR: inf\n",
      "MAE: 0.0\n"
     ]
    },
    {
     "name": "stderr",
     "output_type": "stream",
     "text": [
      "/var/folders/4f/c42dygvd2154cwkfn2wt8ztw0000gn/T/ipykernel_3071/1976597481.py:11: RuntimeWarning: divide by zero encountered in scalar divide\n",
      "  psnr = 10 * np.log10(255**2 / mse_val)\n"
     ]
    }
   ],
   "source": [
    "def mse(image1, image2):\n",
    "    for c in range(3):\n",
    "        for i in range(3):\n",
    "            for j in range(3):\n",
    "                squared_diff = (image1[i, j, c] - image2[i, j, c]) ** 2\n",
    "                mse = np.sum(squared_diff) / (image1.shape[0] * image1.shape[1] * image1.shape[2])\n",
    "    return mse\n",
    "\n",
    "def psnr(image1, image2):\n",
    "    mse_val = mse(image1, image2)\n",
    "    psnr = 10 * np.log10(255**2 / mse_val)\n",
    "    return psnr\n",
    "\n",
    "def mae(image1, image2):\n",
    "    for c in range(3):\n",
    "        for i in range(3):\n",
    "            for j in range(3):\n",
    "                abs_diff = np.abs(image1[i, j, c] - image2[i, j, c])\n",
    "                mae = np.sum(abs_diff) / (image1.shape[0] * image1.shape[1] * image1.shape[2])\n",
    "\n",
    "    return mae\n",
    "\n",
    "print(\"MSE:\", mse(np_input_image, np_output_image))\n",
    "print(\"PSNR:\", psnr(np_input_image, np_output_image))\n",
    "print(\"MAE:\", mae(np_input_image, np_output_image))"
   ]
  }
 ],
 "metadata": {
  "kernelspec": {
   "display_name": "Python 3",
   "language": "python",
   "name": "python3"
  },
  "language_info": {
   "codemirror_mode": {
    "name": "ipython",
    "version": 3
   },
   "file_extension": ".py",
   "mimetype": "text/x-python",
   "name": "python",
   "nbconvert_exporter": "python",
   "pygments_lexer": "ipython3",
   "version": "3.12.7"
  }
 },
 "nbformat": 4,
 "nbformat_minor": 2
}
